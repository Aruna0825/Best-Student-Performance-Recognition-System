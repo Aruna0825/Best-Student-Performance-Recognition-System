{
 "cells": [
  {
   "cell_type": "code",
   "execution_count": 1,
   "id": "fc5af58f-31d1-42bb-8cc8-7f089262b341",
   "metadata": {},
   "outputs": [],
   "source": [
    "import pandas as pd\n",
    "from sklearn.model_selection import train_test_split\n",
    "from sklearn.ensemble import RandomForestClassifier\n",
    "from sklearn.preprocessing import LabelEncoder, StandardScaler\n",
    "from sklearn.metrics import accuracy_score, classification_report\n"
   ]
  },
  {
   "cell_type": "code",
   "execution_count": 2,
   "id": "4b1ea62d-7579-43f1-b633-2e268970c160",
   "metadata": {},
   "outputs": [
    {
     "name": "stderr",
     "output_type": "stream",
     "text": [
      "C:\\Users\\ramaj\\AppData\\Local\\Temp\\ipykernel_15508\\3009742226.py:24: DataConversionWarning: A column-vector y was passed when a 1d array was expected. Please change the shape of y to (n_samples,), for example using ravel().\n",
      "  clf.fit(X_train, y_train)\n"
     ]
    },
    {
     "name": "stdout",
     "output_type": "stream",
     "text": [
      "Accuracy: 45.16%\n",
      "\n",
      "Classification Report:\n",
      "              precision    recall  f1-score   support\n",
      "\n",
      "           0       0.36      0.33      0.35        27\n",
      "           1       0.51      0.54      0.53        35\n",
      "\n",
      "    accuracy                           0.45        62\n",
      "   macro avg       0.44      0.44      0.44        62\n",
      "weighted avg       0.45      0.45      0.45        62\n",
      "\n"
     ]
    }
   ],
   "source": [
    "import pandas as pd\n",
    "from sklearn.model_selection import train_test_split\n",
    "from sklearn.ensemble import RandomForestClassifier\n",
    "from sklearn.preprocessing import LabelEncoder, StandardScaler\n",
    "from sklearn.metrics import accuracy_score, classification_report\n",
    "\n",
    "# Step 1: Load the CSV file\n",
    "df = pd.read_csv('data1.csv')\n",
    "\n",
    "\n",
    "# Step 3: Define the features (X) and the label (y)\n",
    "X = df[['gpa', 'core_subjects', 'hackathons', 'papers', 'contributions']]  # Features\n",
    "y = df[['lables']]  # Target label (1=best, 0=not best)\n",
    "\n",
    "# Step 4: Standardize the numerical columns for better performance\n",
    "scaler = StandardScaler()\n",
    "X = scaler.fit_transform(X)\n",
    "\n",
    "# Step 5: Split the data into training and testing sets (80% train, 20% test)\n",
    "X_train, X_test, y_train, y_test = train_test_split(X, y, test_size=0.2, random_state=42)\n",
    "\n",
    "# Step 6: Initialize and train the RandomForestClassifier\n",
    "clf = RandomForestClassifier(n_estimators=100, random_state=42)\n",
    "clf.fit(X_train, y_train)\n",
    "\n",
    "# Step 7: Make predictions on the test data\n",
    "y_pred = clf.predict(X_test)\n",
    "\n",
    "# Step 8: Evaluate the model\n",
    "accuracy = accuracy_score(y_test, y_pred)\n",
    "print(f\"Accuracy: {accuracy * 100:.2f}%\")\n",
    "\n",
    "# Print classification report for detailed evaluation\n",
    "print(\"\\nClassification Report:\")\n",
    "print(classification_report(y_test, y_pred))\n"
   ]
  },
  {
   "cell_type": "code",
   "execution_count": 3,
   "id": "c1974139-1519-4136-a1b6-3cc9330df235",
   "metadata": {},
   "outputs": [
    {
     "name": "stdout",
     "output_type": "stream",
     "text": [
      "Model saved as 'student_ranking_model.pkl'\n"
     ]
    }
   ],
   "source": [
    "import joblib\n",
    "\n",
    "# Save the trained model to a file\n",
    "joblib.dump(clf, 'student_ranking_model.pkl')\n",
    "print(\"Model saved as 'student_ranking_model.pkl'\")"
   ]
  },
  {
   "cell_type": "code",
   "execution_count": 4,
   "id": "88b77e80-ca10-40e2-8ba7-9b33fa9ada96",
   "metadata": {},
   "outputs": [
    {
     "name": "stdout",
     "output_type": "stream",
     "text": [
      "Predicted Class: Best\n"
     ]
    },
    {
     "name": "stderr",
     "output_type": "stream",
     "text": [
      "C:\\Users\\ramaj\\anaconda3\\Lib\\site-packages\\sklearn\\base.py:439: UserWarning: X does not have valid feature names, but StandardScaler was fitted with feature names\n",
      "  warnings.warn(\n"
     ]
    }
   ],
   "source": [
    "model = joblib.load('student_ranking_model.pkl')\n",
    "\n",
    "# Example input for a new student\n",
    "new_student_data = scaler.transform([[9.1, 2, 8.7, 2, 1]])\n",
    "\n",
    "# Make a prediction\n",
    "prediction = model.predict(new_student_data)\n",
    "print(f\"Predicted Class: {'Best' if prediction[0] == 1 else 'Not Best'}\")"
   ]
  },
  {
   "cell_type": "code",
   "execution_count": 5,
   "id": "6066aead-d59f-4748-b34c-d830e13f6933",
   "metadata": {},
   "outputs": [
    {
     "name": "stdout",
     "output_type": "stream",
     "text": [
      "Model has been trained and saved as 'ml_model.pkl'\n"
     ]
    }
   ],
   "source": [
    "joblib.dump(model, 'ml_model.pkl')\n",
    "\n",
    "print(\"Model has been trained and saved as 'ml_model.pkl'\")"
   ]
  },
  {
   "cell_type": "code",
   "execution_count": 6,
   "id": "02efa27c-dd16-438e-a9b4-12d4262cce32",
   "metadata": {},
   "outputs": [],
   "source": [
    "import tkinter as tk\n",
    "from tkinter import messagebox\n",
    "import joblib\n",
    "import numpy as np\n",
    "\n",
    "# Load the saved model\n",
    "model = joblib.load('ml_model.pkl')\n",
    "\n",
    "# Function to make predictions based on user input\n",
    "def make_prediction():\n",
    "    try:\n",
    "        # Get user input from the GUI\n",
    "        gpa = float(entry_gpa.get())\n",
    "        core_subjects = float(entry_core_subjects.get())\n",
    "        hackathons = int(entry_hackathons.get())\n",
    "        papers = int(entry_papers.get())\n",
    "        contributions = int(entry_contributions.get())\n",
    "        \n",
    "        # Create input data as a 2D array\n",
    "        input_data = np.array([[gpa, core_subjects, hackathons, papers, contributions]])\n",
    "\n",
    "        # Make prediction using the loaded model\n",
    "        prediction = model.predict(input_data)\n",
    "\n",
    "        # Display the result in a messagebox\n",
    "        if prediction[0] == 1:\n",
    "            messagebox.showinfo(\"Prediction Result\", \"🎉 The student is predicted to be among the best!\")\n",
    "        else:\n",
    "            messagebox.showinfo(\"Prediction Result\", \"The student is predicted to be not among the best.\")\n",
    "    except ValueError:\n",
    "        messagebox.showerror(\"Input Error\", \"Please enter valid numeric values for all fields.\")\n",
    "\n",
    "# Function for button hover effect\n",
    "def on_enter(button):\n",
    "    button['bg'] = '#555555'\n",
    "\n",
    "def on_leave(button):\n",
    "    button['bg'] = '#333333'\n",
    "\n",
    "# Create the main window\n",
    "root = tk.Tk()\n",
    "root.title(\"Student Ranking Prediction System\")\n",
    "root.geometry(\"500x600\")  # Set the window size\n",
    "root.configure(bg=\"#f4f4f4\")  # Set a background color\n",
    "\n",
    "# Set the font style and sizes\n",
    "heading_font = (\"Arial\", 20, \"bold\")\n",
    "label_font = (\"Arial\", 12)\n",
    "button_font = (\"Arial\", 12, \"bold\")\n",
    "\n",
    "# Title Label\n",
    "title_label = tk.Label(root, text=\"Student Ranking Prediction\", font=heading_font, bg=\"#f4f4f4\", fg=\"#333333\")\n",
    "title_label.pack(pady=(20, 10))\n",
    "\n",
    "# Create frames for input fields for better layout\n",
    "input_frame = tk.Frame(root, bg=\"#ffffff\", bd=2, relief=\"groove\")\n",
    "input_frame.pack(pady=(0, 10), padx=20)\n",
    "\n",
    "# Create labels and input fields for features\n",
    "def create_label_entry(frame, text, row):\n",
    "    label = tk.Label(frame, text=text, font=label_font, bg=\"#ffffff\", anchor=\"w\")\n",
    "    label.grid(row=row, column=0, sticky=\"w\", padx=10, pady=5)\n",
    "    entry = tk.Entry(frame, width=25, font=label_font, bd=2)\n",
    "    entry.grid(row=row, column=1, padx=10, pady=5)\n",
    "    return entry\n",
    "\n",
    "entry_gpa = create_label_entry(input_frame, \"GPA:\", 0)\n",
    "entry_core_subjects = create_label_entry(input_frame, \"Core Subjects (average):\", 1)\n",
    "entry_hackathons = create_label_entry(input_frame, \"Number of Hackathons:\", 2)\n",
    "entry_papers = create_label_entry(input_frame, \"Number of Papers:\", 3)\n",
    "entry_contributions = create_label_entry(input_frame, \"Contributions (1=Yes, 0=No):\", 4)\n",
    "\n",
    "# Create the Predict button\n",
    "predict_button = tk.Button(root, text=\"Predict\", command=make_prediction, font=button_font, bg=\"#333333\", fg=\"white\", relief=\"raised\")\n",
    "predict_button.pack(pady=(10, 20))\n",
    "predict_button.bind(\"<Enter>\", lambda e: on_enter(predict_button))\n",
    "predict_button.bind(\"<Leave>\", lambda e: on_leave(predict_button))\n",
    "\n",
    "# Footer label for credits\n",
    "footer_label = tk.Label(root, text=\"Developed by arem kevin\", font=(\"Arial\", 10, \"italic\"), bg=\"#f4f4f4\", fg=\"#777777\")\n",
    "footer_label.pack(pady=(10, 20))\n",
    "\n",
    "# Run the GUI main loop\n",
    "root.mainloop()\n"
   ]
  },
  {
   "cell_type": "code",
   "execution_count": null,
   "id": "3fb82d81-1c17-434a-abdb-52197c374c5d",
   "metadata": {},
   "outputs": [],
   "source": []
  }
 ],
 "metadata": {
  "kernelspec": {
   "display_name": "Python 3 (ipykernel)",
   "language": "python",
   "name": "python3"
  },
  "language_info": {
   "codemirror_mode": {
    "name": "ipython",
    "version": 3
   },
   "file_extension": ".py",
   "mimetype": "text/x-python",
   "name": "python",
   "nbconvert_exporter": "python",
   "pygments_lexer": "ipython3",
   "version": "3.11.7"
  }
 },
 "nbformat": 4,
 "nbformat_minor": 5
}
